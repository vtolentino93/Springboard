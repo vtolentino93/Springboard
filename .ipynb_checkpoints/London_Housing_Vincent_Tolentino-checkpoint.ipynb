{
 "cells": [
  {
   "cell_type": "markdown",
   "id": "c766bdb3",
   "metadata": {},
   "source": [
    "# Which boroughs of London have seen the greatest increase in housing prices, on average, over the last two decades?"
   ]
  },
  {
   "cell_type": "markdown",
   "id": "7116b2c1",
   "metadata": {},
   "source": [
    "## This challenge will make use of only what you learned in the following DataCamp courses:\n",
    "\n",
    " - Prework courses (Introduction to Python for Data Science, Intermediate Python for Data Science)\n",
    " - Data Types for Data Science\n",
    " - Python Data Science Toolbox (Part One)\n",
    " - pandas Foundations\n",
    " - Manipulating DataFrames with pandas\n",
    " - Merging DataFrames with pandas\n",
    "\n",
    "## Of the tools, techniques and concepts in the above DataCamp courses, this challenge should require the application of the following:\n",
    "\n",
    "- **pandas**\n",
    "    - **data ingestion and inspection** (pandas Foundations, Module One)\n",
    "    - **exploratory data analysis** (pandas Foundations, Module Two)\n",
    "    - **tidying and cleaning** (Manipulating DataFrames with pandas, Module Three)\n",
    "    - _**transforming DataFrames** (Manipulating DataFrames with pandas, Module One)\n",
    "    - _**subsetting DataFrames with lists** (Manipulating DataFrames with pandas, Module One)\n",
    "    - _**filtering DataFrames** (Manipulating DataFrames with pandas, Module One)\n",
    "    - _**grouping data** (Manipulating DataFrames with pandas, Module Four)\n",
    "    - _**melting data** (Manipulating DataFrames with pandas, Module Three)\n",
    "    - _**advanced indexing** (Manipulating DataFrames with pandas, Module Four)\n",
    "- **matplotlib** (Intermediate Python for Data Science, Module One)\n",
    "- **fundamental** data types (Data Types for Data Science, Module One)\n",
    "- **dictionaries** (Intermediate Python for Data Science, Module Two)\n",
    "- **handling dates and times** (Data Types for Data Science, Module Four)\n",
    "- **function definition** (Python Data Science Toolbox - Part One, Module One)\n",
    "- **default arguments, variable length, and scope** (Python Data Science Toolbox Part One, Module Two)\n",
    "- **lambda functions and error handling** (Python Data Science Toolbox - Part One, Module Four)"
   ]
  },
  {
   "cell_type": "markdown",
   "id": "85a156bd",
   "metadata": {},
   "source": [
    "## Stage 1: Sourcing and loading"
   ]
  },
  {
   "cell_type": "code",
   "execution_count": 3,
   "id": "1b385868",
   "metadata": {},
   "outputs": [],
   "source": [
    "import pandas as pd\n",
    "import numpy as np\n",
    "from matplotlib import pyplot as plt"
   ]
  },
  {
   "cell_type": "code",
   "execution_count": 4,
   "id": "ca627128",
   "metadata": {},
   "outputs": [],
   "source": [
    "url_LondonHousePrices = 'https://data.london.gov.uk/download/uk-house-price-index/70ac0766-8902-4eb5-aab5-01951aaed773/UK%20House%20price%20index.xls'"
   ]
  },
  {
   "cell_type": "code",
   "execution_count": 5,
   "id": "cd2029ae",
   "metadata": {},
   "outputs": [
    {
     "ename": "TypeError",
     "evalue": "__init__() got an unexpected keyword argument 'sheet_name'",
     "output_type": "error",
     "traceback": [
      "\u001b[1;31m---------------------------------------------------------------------------\u001b[0m",
      "\u001b[1;31mTypeError\u001b[0m                                 Traceback (most recent call last)",
      "Input \u001b[1;32mIn [5]\u001b[0m, in \u001b[0;36m<cell line: 1>\u001b[1;34m()\u001b[0m\n\u001b[1;32m----> 1\u001b[0m properties \u001b[38;5;241m=\u001b[39m \u001b[43mpd\u001b[49m\u001b[38;5;241;43m.\u001b[39;49m\u001b[43mDataFrame\u001b[49m\u001b[43m(\u001b[49m\u001b[43murl_LondonHousePrices\u001b[49m\u001b[43m,\u001b[49m\u001b[43m \u001b[49m\u001b[43msheet_name\u001b[49m\u001b[38;5;241;43m=\u001b[39;49m\u001b[38;5;124;43m'\u001b[39;49m\u001b[38;5;124;43mAverage price\u001b[39;49m\u001b[38;5;124;43m'\u001b[39;49m\u001b[43m,\u001b[49m\u001b[43m \u001b[49m\u001b[43mindex_col\u001b[49m\u001b[38;5;241;43m=\u001b[39;49m\u001b[43m \u001b[49m\u001b[38;5;28;43;01mNone\u001b[39;49;00m\u001b[43m)\u001b[49m\n",
      "\u001b[1;31mTypeError\u001b[0m: __init__() got an unexpected keyword argument 'sheet_name'"
     ]
    }
   ],
   "source": [
    "properties = pd.DataFrame(url_LondonHousePrices, sheet_name='Average price', index_col= None)"
   ]
  },
  {
   "cell_type": "markdown",
   "id": "1a73a96a",
   "metadata": {},
   "source": [
    "## Stage 2: Cleaning, transforming, and visualizing"
   ]
  },
  {
   "cell_type": "code",
   "execution_count": null,
   "id": "b527761c",
   "metadata": {},
   "outputs": [],
   "source": [
    "properties.head()"
   ]
  },
  {
   "cell_type": "markdown",
   "id": "6320223c",
   "metadata": {},
   "source": [
    "## Stage 3: Modeling"
   ]
  },
  {
   "cell_type": "code",
   "execution_count": null,
   "id": "351e283f",
   "metadata": {},
   "outputs": [],
   "source": []
  },
  {
   "cell_type": "markdown",
   "id": "e9d3eed4",
   "metadata": {},
   "source": [
    "## Stage 4: Evaluating and concluding"
   ]
  },
  {
   "cell_type": "code",
   "execution_count": null,
   "id": "4fa20cb3",
   "metadata": {},
   "outputs": [],
   "source": []
  }
 ],
 "metadata": {
  "kernelspec": {
   "display_name": "Python 3 (ipykernel)",
   "language": "python",
   "name": "python3"
  },
  "language_info": {
   "codemirror_mode": {
    "name": "ipython",
    "version": 3
   },
   "file_extension": ".py",
   "mimetype": "text/x-python",
   "name": "python",
   "nbconvert_exporter": "python",
   "pygments_lexer": "ipython3",
   "version": "3.9.12"
  }
 },
 "nbformat": 4,
 "nbformat_minor": 5
}
